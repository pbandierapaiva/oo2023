{
 "cells": [
  {
   "cell_type": "code",
   "execution_count": 129,
   "id": "101b6c24-5a07-4848-8167-4efd81f616d5",
   "metadata": {},
   "outputs": [],
   "source": [
    "# Campo para simulação \n",
    "\n",
    "import matplotlib.pyplot as plt\n",
    "import numpy as np\n",
    "\n",
    "class Campo:\n",
    "    def __init__(self, pDim=100):\n",
    "        self.dim= pDim\n",
    "        self.vidas = []\n",
    "    def pop(self):\n",
    "        return len(self.vidas)\n",
    "    def mostra(self):\n",
    "        grade = np.zeros( (self.dim,self.dim), dtype=int )\n",
    "        for vi in self.vidas:\n",
    "            grade[ vi.x ][ vi.y ] = 1\n",
    "        plt.imshow(grade.transpose(), cmap='binary')\n",
    "        plt.xticks([]), plt.yticks([])  # Hide the tick labels\n",
    "        plt.show() \n",
    "    def livre(self, px,py):\n",
    "        for vi in self.vidas:\n",
    "            if vi.x==px and vi.y==py:\n",
    "                return False\n",
    "        return True\n",
    "    def criaSer(self, n=1, pDir=0b1111):\n",
    "        for i in range(n):\n",
    "            while(True):\n",
    "                tX = int(np.random.rand()*self.dim)\n",
    "                tY = int(np.random.rand()*self.dim)\n",
    "                if self.livre( tX,tY ):\n",
    "                    self.vidas.append( Ser( self, tX,tY, pDir ) )\n",
    "                    break\n",
    "    def tique(self, n=1):\n",
    "        for i in range(n):\n",
    "            for vi in self.vidas:\n",
    "                vi.passo()\n",
    "    def duplicaPop(self):\n",
    "        for i in range( len(self.vidas) ):\n",
    "            self.vidas[i].duplica()\n",
    "    def dizimar(self, limiteX, limiteY):\n",
    "        vidasSalvas = []\n",
    "        for vi in self.vidas:\n",
    "            if vi.x < limiteX and vi.y < limiteY:\n",
    "                vidasSalvas.append(vi)\n",
    "        self.vidas = vidasSalvas\n",
    "    def redistribuir(self):\n",
    "        novasvidas = self.vidas.copy()\n",
    "        self.vidas=[]\n",
    "        for vida in novasvidas:\n",
    "            while(True):\n",
    "                tX = int(np.random.rand()*self.dim)\n",
    "                tY = int(np.random.rand()*self.dim)\n",
    "                if self.livre( tX,tY ):\n",
    "                    vida.x = tX\n",
    "                    vida.y = tY\n",
    "                    self.vidas.append( vida )\n",
    "                    break\n",
    "            \n",
    "\n",
    "class Ser:\n",
    "    def __init__(self, pCampo, pX, pY, pDir):\n",
    "        self.campo = pCampo\n",
    "        self.x = pX\n",
    "        self.y = pY\n",
    "        \n",
    "        if int(np.random.rand()*100) < 5:\n",
    "            muta = int(np.random.rand()*4)\n",
    "            if muta==0:\n",
    "                self.direcoes = pDir ^ 0b1000  # inverte bit para cima 0b1000\n",
    "            elif muta==1:\n",
    "                self.direcoes = pDir ^ 0b0100 # inverte bit para baixo 0b0100\n",
    "            elif muta==2:\n",
    "                self.direcoes = pDir ^ 0b0010 # inverte bit para direita 0b0010\n",
    "            elif muta==3:\n",
    "                self.direcoes = pDir ^ 0b0001 # inverte bit para esquerda 0b0001\n",
    "        else:\n",
    "            self.direcoes = pDir \n",
    "    def __repr__(self):\n",
    "        return \"(%d,%d)\"%(self.x,self.y)\n",
    "    def passo(self):\n",
    "        d = int( np.random.rand()*4 ) # direção aleatória 0 - cima, 1- baixo, 2- direita, 3-esquerda\n",
    "        if d==0:\n",
    "            if self.campo.livre(self.x,self.y-1)  and (self.direcoes & 0b1000):\n",
    "                if self.y-1<0: return\n",
    "                self.y = self.y-1\n",
    "        elif d==1:\n",
    "            if self.campo.livre(self.x,self.y+1)  and (self.direcoes & 0b0100):                \n",
    "                if self.y+1>=self.campo.dim: return\n",
    "                self.y = self.y+1\n",
    "        elif d==2:\n",
    "            if self.campo.livre(self.x+1,self.y)  and (self.direcoes & 0b0010):\n",
    "                if self.x+1>=self.campo.dim: return\n",
    "                self.x=self.x+1\n",
    "        elif d==3:\n",
    "            if self.campo.livre(self.x-1,self.y)  and (self.direcoes & 0b0001):\n",
    "                if self.x-1<0:return\n",
    "                self.x=self.x-1\n",
    "    def duplica(self):\n",
    "        self.campo.criaSer(1,self.direcoes)\n",
    "\n"
   ]
  },
  {
   "cell_type": "code",
   "execution_count": 139,
   "id": "1932d914-e255-45c4-ae87-141951be41de",
   "metadata": {},
   "outputs": [],
   "source": [
    "c = Campo()\n",
    "c.criaSer(200)\n",
    "c.tique(100)"
   ]
  },
  {
   "cell_type": "code",
   "execution_count": 164,
   "id": "056c4b4f-c8da-4a70-a4b6-5bbf7c207111",
   "metadata": {
    "tags": []
   },
   "outputs": [
    {
     "data": {
      "image/png": "[encoded data removed]",
      "text/plain": [
       "<Figure size 640x480 with 1 Axes>"
      ]
     },
     "metadata": {},
     "output_type": "display_data"
    }
   ],
   "source": [
    "c.tique(300)\n",
    "c.dizimar(70,70)\n",
    "c.redistribuir()\n",
    "c.duplicaPop()\n",
    "c.tique(300)\n",
    "c.mostra()"
   ]
  },
  {
   "cell_type": "code",
   "execution_count": 160,
   "id": "6989aef7-8140-420e-b4ac-4dbd36dba172",
   "metadata": {
    "tags": []
   },
   "outputs": [
    {
     "data": {
      "image/png": "[encoded data removed]",
      "text/plain": [
       "<Figure size 640x480 with 1 Axes>"
      ]
     },
     "metadata": {},
     "output_type": "display_data"
    }
   ],
   "source": [
    "c.tique(300)\n",
    "c.mostra()"
   ]
  },
  {
   "cell_type": "code",
   "execution_count": 165,
   "id": "6a294c9b-0004-4a28-8192-9b2a90da43c4",
   "metadata": {
    "tags": []
   },
   "outputs": [],
   "source": [
    "\n",
    "d ={}\n",
    "\n",
    "for v in c.vidas:\n",
    "    if v.direcoes not in d:\n",
    "        d[v.direcoes] = 1\n",
    "    else:\n",
    "        d[v.direcoes]+=1"
   ]
  },
  {
   "cell_type": "code",
   "execution_count": 166,
   "id": "23849a4d-68a6-46fb-97af-d2e0e2c330d5",
   "metadata": {
    "tags": []
   },
   "outputs": [
    {
     "data": {
      "text/plain": [
       "{15: 233, 11: 201, 13: 186, 9: 73, 3: 4, 1: 3, 5: 1, 12: 3, 7: 3, 14: 1}"
      ]
     },
     "execution_count": 166,
     "metadata": {},
     "output_type": "execute_result"
    }
   ],
   "source": [
    "d"
   ]
  },
  {
   "cell_type": "code",
   "execution_count": 170,
   "id": "bd22f4f9-b166-4590-bd15-f362c3bc1a13",
   "metadata": {
    "tags": []
   },
   "outputs": [
    {
     "data": {
      "image/png": "[encoded data removed]",
      "text/plain": [
       "<Figure size 640x480 with 1 Axes>"
      ]
     },
     "metadata": {},
     "output_type": "display_data"
    }
   ],
   "source": [
    "c.redistribuir()\n",
    "c.tique(500)\n",
    "c.mostra()"
   ]
  },
  {
   "cell_type": "code",
   "execution_count": null,
   "id": "53966ac6-681d-476a-b7d8-8a00e31a1d3d",
   "metadata": {},
   "outputs": [],
   "source": []
  }
 ],
 "metadata": {
  "kernelspec": {
   "display_name": "Python 3 (ipykernel)",
   "language": "python",
   "name": "python3"
  },
  "language_info": {
   "codemirror_mode": {
    "name": "ipython",
    "version": 3
   },
   "file_extension": ".py",
   "mimetype": "text/x-python",
   "name": "python",
   "nbconvert_exporter": "python",
   "pygments_lexer": "ipython3",
   "version": "3.10.10"
  }
 },
 "nbformat": 4,
 "nbformat_minor": 5
}
