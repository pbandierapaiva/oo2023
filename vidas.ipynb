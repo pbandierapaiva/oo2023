{
 "cells": [
  {
   "cell_type": "code",
   "execution_count": 170,
   "id": "101b6c24-5a07-4848-8167-4efd81f616d5",
   "metadata": {},
   "outputs": [],
   "source": [
    "# Campo para simulação\n",
    "\n",
    "import matplotlib.pyplot as plt\n",
    "import numpy as np\n",
    "\n",
    "class Campo:\n",
    "    def __init__(self, pDim=100):\n",
    "        self.dim= pDim\n",
    "        self.vidas = []\n",
    "\n",
    "    def mostra(self):\n",
    "        grade = np.zeros( (self.dim,self.dim), dtype=int )\n",
    "        for vi in self.vidas:\n",
    "            grade[ vi.x ][ vi.y ] = 1\n",
    "        plt.imshow(grade.transpose(), cmap='binary')\n",
    "        plt.xticks([]), plt.yticks([])  # Hide the tick labels\n",
    "        plt.show() \n",
    "    def livre(self, px,py):\n",
    "        for vi in self.vidas:\n",
    "            if vi.x==px and vi.y==py:\n",
    "                return False\n",
    "        return True\n",
    "    def criaSer(self, n=1, pDir=0b1111):\n",
    "        \n",
    "        for i in range(n):\n",
    "            while(True):\n",
    "                tX = int(np.random.rand()*self.dim)\n",
    "                tY = int(np.random.rand()*self.dim)\n",
    "                if self.livre( tX,tY ):\n",
    "                    self.vidas.append( Ser( self, tX,tY, pDir ) )\n",
    "                    break\n",
    "    def tique(self, n=1):\n",
    "        for i in range(n):\n",
    "            for vi in self.vidas:\n",
    "                vi.passo()\n",
    "    def duplicaPop(self):\n",
    "        for i in range( len(self.vidas) ):\n",
    "            self.vidas[i].duplica()\n",
    "        \n",
    "class Ser:\n",
    "    def __init__(self, pCampo, pX, pY, pDir):\n",
    "        self.campo = pCampo\n",
    "        self.x = pX\n",
    "        self.y = pY\n",
    "        \n",
    "        if int(np.random.rand()*100) < 5:\n",
    "            muta = int(np.random.rand()*4)\n",
    "            if muta==0:\n",
    "                self.direcoes = pDir ^ 0b1000  # inverte bit para cima 0b1000\n",
    "            elif muta==1:\n",
    "                self.direcoes = pDir ^ 0b0100 # inverte bit para baixo 0b0100\n",
    "            elif muta==2:\n",
    "                self.direcoes = pDir ^ 0b0010 # inverte bit para direita 0b0010\n",
    "            elif muta==3:\n",
    "                self.direcoes = pDir ^ 0b0001 # inverte bit para esquerda 0b0001\n",
    "        else:\n",
    "            self.direcoes = pDir \n",
    "    def __repr__(self):\n",
    "        return \"(%d,%d)\"%(self.x,self.y)\n",
    "    def passo(self):\n",
    "        d = int( np.random.rand()*4 ) # direção aleatória 0 - cima, 1- baixo, 2- direita, 3-esquerda\n",
    "        if d==0:\n",
    "            if self.campo.livre(self.x,self.y-1)  and (self.direcoes & 0b1000):\n",
    "                if self.y-1<0: return\n",
    "                self.y = self.y-1\n",
    "        elif d==1:\n",
    "            if self.campo.livre(self.x,self.y+1)  and (self.direcoes & 0b0100):                \n",
    "                if self.y+1>=self.campo.dim: return\n",
    "                self.y = self.y+1\n",
    "        elif d==2:\n",
    "            if self.campo.livre(self.x+1,self.y)  and (self.direcoes & 0b0010):\n",
    "                if self.x+1>=self.campo.dim: return\n",
    "                self.x=self.x+1\n",
    "        elif d==3:\n",
    "            if self.campo.livre(self.x-1,self.y)  and (self.direcoes & 0b0001):\n",
    "                if self.x-1<0:return\n",
    "                self.x=self.x-1\n",
    "    def duplica(self):\n",
    "        self.campo.criaSer(1,self.direcoes)\n",
    "\n"
   ]
  },
  {
   "cell_type": "code",
   "execution_count": null,
   "id": "cb7c2295-b502-4573-a734-dae974041fb0",
   "metadata": {},
   "outputs": [],
   "source": []
  },
  {
   "cell_type": "code",
   "execution_count": 171,
   "id": "1f3e9f7c-6150-4ec5-a1ae-e28fbc3183b0",
   "metadata": {},
   "outputs": [],
   "source": [
    "c = Campo()"
   ]
  },
  {
   "cell_type": "code",
   "execution_count": 172,
   "id": "1932d914-e255-45c4-ae87-141951be41de",
   "metadata": {},
   "outputs": [],
   "source": [
    "c.criaSer(100)"
   ]
  },
  {
   "cell_type": "code",
   "execution_count": 173,
   "id": "acd9cb63-b1be-44e9-ab68-ed4bab8e2a5a",
   "metadata": {},
   "outputs": [
    {
     "data": {
      "image/png": "[encoded data removed]",
      "text/plain": [
       "<Figure size 640x480 with 1 Axes>"
      ]
     },
     "metadata": {},
     "output_type": "display_data"
    }
   ],
   "source": [
    "c.mostra()"
   ]
  },
  {
   "cell_type": "code",
   "execution_count": 178,
   "id": "d21919bc-703b-479f-9998-e02b6f8aaae2",
   "metadata": {},
   "outputs": [],
   "source": [
    "c.duplicaPop()"
   ]
  },
  {
   "cell_type": "code",
   "execution_count": 179,
   "id": "07bdddec-a370-46a9-b9b3-d84067186324",
   "metadata": {},
   "outputs": [
    {
     "data": {
      "text/plain": [
       "400"
      ]
     },
     "execution_count": 179,
     "metadata": {},
     "output_type": "execute_result"
    }
   ],
   "source": [
    "len(c.vidas)"
   ]
  },
  {
   "cell_type": "code",
   "execution_count": 176,
   "id": "e75a7616-47a3-4a77-8aac-edc9f48d5c86",
   "metadata": {},
   "outputs": [],
   "source": [
    "c.tique(1000)"
   ]
  },
  {
   "cell_type": "code",
   "execution_count": 180,
   "id": "30c44568-d319-471d-96cc-b1cdba0f09fc",
   "metadata": {},
   "outputs": [
    {
     "data": {
      "image/png": "[encoded data removed]",
      "text/plain": [
       "<Figure size 640x480 with 1 Axes>"
      ]
     },
     "metadata": {},
     "output_type": "display_data"
    }
   ],
   "source": [
    "c.mostra()"
   ]
  },
  {
   "cell_type": "code",
   "execution_count": 114,
   "id": "f08de65d-0569-4f72-8927-b928ceed1ee9",
   "metadata": {},
   "outputs": [
    {
     "data": {
      "text/plain": [
       "15"
      ]
     },
     "execution_count": 114,
     "metadata": {},
     "output_type": "execute_result"
    }
   ],
   "source": [
    "0b1111"
   ]
  },
  {
   "cell_type": "code",
   "execution_count": null,
   "id": "d6e00601-78ad-40cc-b80f-fde345731c9d",
   "metadata": {},
   "outputs": [],
   "source": []
  },
  {
   "cell_type": "code",
   "execution_count": 120,
   "id": "8d9ba0a0-af0f-448c-a04e-3540b27de516",
   "metadata": {},
   "outputs": [
    {
     "data": {
      "text/plain": [
       "0"
      ]
     },
     "execution_count": 120,
     "metadata": {},
     "output_type": "execute_result"
    }
   ],
   "source": [
    "0b0111 & 0b1000"
   ]
  },
  {
   "cell_type": "code",
   "execution_count": null,
   "id": "1ebcce91-37e0-42bb-84ce-ccf07860e05e",
   "metadata": {},
   "outputs": [],
   "source": []
  },
  {
   "cell_type": "code",
   "execution_count": null,
   "id": "db70aa37-bbf2-4501-9574-e4122cee2d2a",
   "metadata": {},
   "outputs": [],
   "source": []
  },
  {
   "cell_type": "code",
   "execution_count": null,
   "id": "caebf359-b8f3-4dd7-b982-dd0abcb09db4",
   "metadata": {},
   "outputs": [],
   "source": []
  },
  {
   "cell_type": "code",
   "execution_count": null,
   "id": "d82d714e-a2f0-4ef6-bffb-18607937cb34",
   "metadata": {},
   "outputs": [],
   "source": []
  },
  {
   "cell_type": "code",
   "execution_count": null,
   "id": "0c21b0ce-8851-48c3-a168-d545eccbce44",
   "metadata": {},
   "outputs": [],
   "source": []
  },
  {
   "cell_type": "code",
   "execution_count": null,
   "id": "9ab98b9b-7ebd-4a5e-9696-864038b8a194",
   "metadata": {},
   "outputs": [],
   "source": []
  },
  {
   "cell_type": "code",
   "execution_count": 80,
   "id": "895265f0-9876-4b27-8857-10af1ce05c59",
   "metadata": {},
   "outputs": [
    {
     "data": {
      "image/png": "[encoded data removed]",
      "text/plain": [
       "<Figure size 640x480 with 1 Axes>"
      ]
     },
     "metadata": {},
     "output_type": "display_data"
    }
   ],
   "source": [
    "c.mostra()"
   ]
  },
  {
   "cell_type": "code",
   "execution_count": 21,
   "id": "5de12bc6-d9b5-4f38-8e36-494da76d45b8",
   "metadata": {},
   "outputs": [],
   "source": [
    "g = np.zeros( (10,10),dtype=int)"
   ]
  },
  {
   "cell_type": "code",
   "execution_count": 22,
   "id": "8b730101-1fce-4708-810d-2dcb685f4849",
   "metadata": {},
   "outputs": [],
   "source": [
    "g[1][5] = 1"
   ]
  },
  {
   "cell_type": "code",
   "execution_count": 23,
   "id": "057e36fc-6312-4043-9b73-637d96b357cb",
   "metadata": {},
   "outputs": [
    {
     "data": {
      "text/plain": [
       "array([[0, 0, 0, 0, 0, 0, 0, 0, 0, 0],\n",
       "       [0, 0, 0, 0, 0, 1, 0, 0, 0, 0],\n",
       "       [0, 0, 0, 0, 0, 0, 0, 0, 0, 0],\n",
       "       [0, 0, 0, 0, 0, 0, 0, 0, 0, 0],\n",
       "       [0, 0, 0, 0, 0, 0, 0, 0, 0, 0],\n",
       "       [0, 0, 0, 0, 0, 0, 0, 0, 0, 0],\n",
       "       [0, 0, 0, 0, 0, 0, 0, 0, 0, 0],\n",
       "       [0, 0, 0, 0, 0, 0, 0, 0, 0, 0],\n",
       "       [0, 0, 0, 0, 0, 0, 0, 0, 0, 0],\n",
       "       [0, 0, 0, 0, 0, 0, 0, 0, 0, 0]])"
      ]
     },
     "execution_count": 23,
     "metadata": {},
     "output_type": "execute_result"
    }
   ],
   "source": [
    "g"
   ]
  },
  {
   "cell_type": "code",
   "execution_count": 24,
   "id": "83604fc9-2427-4d40-8862-b05ff06c999b",
   "metadata": {},
   "outputs": [
    {
     "data": {
      "text/plain": [
       "array([[0, 0, 0, 0, 0, 0, 0, 0, 0, 0],\n",
       "       [0, 0, 0, 0, 0, 0, 0, 0, 0, 0],\n",
       "       [0, 0, 0, 0, 0, 0, 0, 0, 0, 0],\n",
       "       [0, 0, 0, 0, 0, 0, 0, 0, 0, 0],\n",
       "       [0, 0, 0, 0, 0, 0, 0, 0, 0, 0],\n",
       "       [0, 1, 0, 0, 0, 0, 0, 0, 0, 0],\n",
       "       [0, 0, 0, 0, 0, 0, 0, 0, 0, 0],\n",
       "       [0, 0, 0, 0, 0, 0, 0, 0, 0, 0],\n",
       "       [0, 0, 0, 0, 0, 0, 0, 0, 0, 0],\n",
       "       [0, 0, 0, 0, 0, 0, 0, 0, 0, 0]])"
      ]
     },
     "execution_count": 24,
     "metadata": {},
     "output_type": "execute_result"
    }
   ],
   "source": [
    "g.transpose()"
   ]
  },
  {
   "cell_type": "code",
   "execution_count": null,
   "id": "516e4b98-f3f0-45d1-a80b-da882f932487",
   "metadata": {},
   "outputs": [],
   "source": []
  }
 ],
 "metadata": {
  "kernelspec": {
   "display_name": "Python 3 (ipykernel)",
   "language": "python",
   "name": "python3"
  },
  "language_info": {
   "codemirror_mode": {
    "name": "ipython",
    "version": 3
   },
   "file_extension": ".py",
   "mimetype": "text/x-python",
   "name": "python",
   "nbconvert_exporter": "python",
   "pygments_lexer": "ipython3",
   "version": "3.11.3"
  }
 },
 "nbformat": 4,
 "nbformat_minor": 5
}
