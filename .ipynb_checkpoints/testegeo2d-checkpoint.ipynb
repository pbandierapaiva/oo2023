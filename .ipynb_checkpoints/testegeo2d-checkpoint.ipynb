{
 "cells": [
  {
   "cell_type": "code",
   "execution_count": 1,
   "id": "570d601d-5ef7-40c9-8b47-e82325e4ae2c",
   "metadata": {},
   "outputs": [],
   "source": [
    "from geometria import *"
   ]
  },
  {
   "cell_type": "code",
   "execution_count": 2,
   "id": "411a16ba-c1d3-4eac-9e50-038576b3ce5f",
   "metadata": {},
   "outputs": [],
   "source": [
    "q = Quadrado(7,Ponto(1,1))"
   ]
  },
  {
   "cell_type": "code",
   "execution_count": 3,
   "id": "76087481-8bfc-4578-8438-cdf31bac2372",
   "metadata": {},
   "outputs": [
    {
     "data": {
      "text/plain": [
       "[Instância de Ponto em (1,1) ,\n",
       " Instância de Ponto em (8,1) ,\n",
       " Instância de Ponto em (8,8) ,\n",
       " Instância de Ponto em (1,8) ]"
      ]
     },
     "execution_count": 3,
     "metadata": {},
     "output_type": "execute_result"
    }
   ],
   "source": [
    "q"
   ]
  },
  {
   "cell_type": "code",
   "execution_count": 4,
   "id": "60082ae7-eb4c-4900-a61a-f5c406c35323",
   "metadata": {},
   "outputs": [],
   "source": [
    "q2 = Quadrado(9)"
   ]
  },
  {
   "cell_type": "code",
   "execution_count": 5,
   "id": "b88c22a2-63fb-45fd-a8e8-045abafef7c9",
   "metadata": {},
   "outputs": [
    {
     "data": {
      "text/plain": [
       "[Instância de Ponto em (0,0) ,\n",
       " Instância de Ponto em (9,0) ,\n",
       " Instância de Ponto em (9,9) ,\n",
       " Instância de Ponto em (0,9) ]"
      ]
     },
     "execution_count": 5,
     "metadata": {},
     "output_type": "execute_result"
    }
   ],
   "source": [
    "q2"
   ]
  },
  {
   "cell_type": "code",
   "execution_count": 6,
   "id": "8476f5f2-ff2a-42c0-aa9e-92b9d8ed8844",
   "metadata": {},
   "outputs": [],
   "source": [
    "q.move( Ponto(10,10) )"
   ]
  },
  {
   "cell_type": "code",
   "execution_count": 7,
   "id": "ec54273b-060a-44fe-ac95-1af4ca21e6a2",
   "metadata": {},
   "outputs": [
    {
     "data": {
      "text/plain": [
       "[Instância de Ponto em (10,10) ,\n",
       " Instância de Ponto em (17,10) ,\n",
       " Instância de Ponto em (17,17) ,\n",
       " Instância de Ponto em (10,17) ]"
      ]
     },
     "execution_count": 7,
     "metadata": {},
     "output_type": "execute_result"
    }
   ],
   "source": [
    "q"
   ]
  },
  {
   "cell_type": "code",
   "execution_count": 8,
   "id": "ed953840-344c-4231-9a98-3325b2052a7b",
   "metadata": {},
   "outputs": [
    {
     "data": {
      "text/plain": [
       "[Instância de Ponto em (0,0) ,\n",
       " Instância de Ponto em (9,0) ,\n",
       " Instância de Ponto em (9,9) ,\n",
       " Instância de Ponto em (0,9) ]"
      ]
     },
     "execution_count": 8,
     "metadata": {},
     "output_type": "execute_result"
    }
   ],
   "source": [
    "q2"
   ]
  },
  {
   "cell_type": "code",
   "execution_count": 9,
   "id": "f07a69de-64da-499f-ae67-00bfeb1ca2a3",
   "metadata": {},
   "outputs": [],
   "source": [
    "q3= Quadrado( 12 )"
   ]
  },
  {
   "cell_type": "code",
   "execution_count": 10,
   "id": "31378092-907c-482f-8b4e-2ae09837fa77",
   "metadata": {},
   "outputs": [],
   "source": [
    "q3.move(Ponto(2,2) )"
   ]
  },
  {
   "cell_type": "code",
   "execution_count": 11,
   "id": "d2a1e77d-d16d-4891-a605-0d97e6af5867",
   "metadata": {},
   "outputs": [
    {
     "data": {
      "text/plain": [
       "[Instância de Ponto em (2,2) ,\n",
       " Instância de Ponto em (14,2) ,\n",
       " Instância de Ponto em (14,14) ,\n",
       " Instância de Ponto em (2,14) ]"
      ]
     },
     "execution_count": 11,
     "metadata": {},
     "output_type": "execute_result"
    }
   ],
   "source": [
    "q3"
   ]
  },
  {
   "cell_type": "code",
   "execution_count": 12,
   "id": "9e645766-e2dd-49d6-9821-4cd9338578a4",
   "metadata": {},
   "outputs": [
    {
     "data": {
      "text/plain": [
       "[Instância de Ponto em (10,10) ,\n",
       " Instância de Ponto em (17,10) ,\n",
       " Instância de Ponto em (17,17) ,\n",
       " Instância de Ponto em (10,17) ]"
      ]
     },
     "execution_count": 12,
     "metadata": {},
     "output_type": "execute_result"
    }
   ],
   "source": [
    "q"
   ]
  },
  {
   "cell_type": "code",
   "execution_count": 13,
   "id": "5e80174d-1841-4855-a359-334fc71301ea",
   "metadata": {},
   "outputs": [
    {
     "data": {
      "text/plain": [
       "[Instância de Ponto em (2,2) ,\n",
       " Instância de Ponto em (9,0) ,\n",
       " Instância de Ponto em (9,9) ,\n",
       " Instância de Ponto em (0,9) ]"
      ]
     },
     "execution_count": 13,
     "metadata": {},
     "output_type": "execute_result"
    }
   ],
   "source": [
    "q2"
   ]
  },
  {
   "cell_type": "code",
   "execution_count": null,
   "id": "2510c200-45f8-46a2-b5e6-dc14c8b8960e",
   "metadata": {},
   "outputs": [],
   "source": []
  },
  {
   "cell_type": "code",
   "execution_count": null,
   "id": "f2efd97f-60e9-4110-9be6-d02d1e650351",
   "metadata": {},
   "outputs": [],
   "source": []
  },
  {
   "cell_type": "code",
   "execution_count": null,
   "id": "97d029f6-ecdd-4cdc-b56c-ba572a473ff2",
   "metadata": {},
   "outputs": [],
   "source": []
  }
 ],
 "metadata": {
  "kernelspec": {
   "display_name": "Python 3 (ipykernel)",
   "language": "python",
   "name": "python3"
  },
  "language_info": {
   "codemirror_mode": {
    "name": "ipython",
    "version": 3
   },
   "file_extension": ".py",
   "mimetype": "text/x-python",
   "name": "python",
   "nbconvert_exporter": "python",
   "pygments_lexer": "ipython3",
   "version": "3.11.3"
  }
 },
 "nbformat": 4,
 "nbformat_minor": 5
}
